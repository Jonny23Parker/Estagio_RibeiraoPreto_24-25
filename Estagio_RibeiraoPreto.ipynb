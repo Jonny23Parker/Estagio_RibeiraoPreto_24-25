{
  "nbformat": 4,
  "nbformat_minor": 0,
  "metadata": {
    "colab": {
      "provenance": [],
      "authorship_tag": "ABX9TyMFNPzNsUHkiV3C92RVun+y",
      "include_colab_link": true
    },
    "kernelspec": {
      "name": "python3",
      "display_name": "Python 3"
    },
    "language_info": {
      "name": "python"
    }
  },
  "cells": [
    {
      "cell_type": "markdown",
      "metadata": {
        "id": "view-in-github",
        "colab_type": "text"
      },
      "source": [
        "<a href=\"https://colab.research.google.com/github/Jonny23Parker/Estagio_RibeiraoPreto_24-25/blob/main/Estagio_RibeiraoPreto.ipynb\" target=\"_parent\"><img src=\"https://colab.research.google.com/assets/colab-badge.svg\" alt=\"Open In Colab\"/></a>"
      ]
    },
    {
      "cell_type": "code",
      "execution_count": 2,
      "metadata": {
        "colab": {
          "base_uri": "https://localhost:8080/"
        },
        "id": "nhL9kIcZzXbG",
        "outputId": "a1832ea4-1b3e-4b98-bb98-b1b1f51d045f"
      },
      "outputs": [
        {
          "output_type": "stream",
          "name": "stdout",
          "text": [
            "Informe um número: 35\n",
            "O número 35 NÃO pertence à sequência de Fibonacci.\n"
          ]
        }
      ],
      "source": [
        "def is_fibonacci(num):\n",
        "    # Função para verificar se um número pertence à sequência de Fibonacci\n",
        "    a, b = 0, 1\n",
        "    while b < num:\n",
        "        a, b = b, a + b\n",
        "    return b == num or num == 0\n",
        "\n",
        "# Número a ser verificado\n",
        "num = int(input(\"Informe um número: \"))\n",
        "\n",
        "if is_fibonacci(num):\n",
        "    print(f\"O número {num} PERTENCE à sequência de Fibonacci.\")\n",
        "else:\n",
        "    print(f\"O número {num} NÃO PERTENCE à sequência de Fibonacci.\")"
      ]
    },
    {
      "cell_type": "code",
      "source": [
        "def count_letter_a(text):\n",
        "    # Converte o texto para minúsculas para facilitar a contagem\n",
        "    text = text.lower()\n",
        "\n",
        "    # Conta todas as variações de 'a'\n",
        "    count = text.count('a') + text.count('ã') + text.count('â') + text.count('á')\n",
        "\n",
        "    return count\n",
        "\n",
        "# Exemplo de uso\n",
        "texto = input(\"Digite o texto: \")\n",
        "resultado = count_letter_a(texto)\n",
        "print(f\"O texto contém {resultado} letras 'a' ou suas variações.\")\n"
      ],
      "metadata": {
        "colab": {
          "base_uri": "https://localhost:8080/"
        },
        "id": "qiTm0g0K00EB",
        "outputId": "42c59de2-2363-43c1-c734-9bc7929a7fbf"
      },
      "execution_count": 47,
      "outputs": [
        {
          "output_type": "stream",
          "name": "stdout",
          "text": [
            "Digite o texto: Análise avançada é essencial\n",
            "O texto contém 7 letras 'a' ou suas variações.\n"
          ]
        }
      ]
    },
    {
      "cell_type": "code",
      "source": [
        "def calcular_soma():\n",
        "    INDICE = 12\n",
        "    SOMA = 0\n",
        "    K = 1\n",
        "\n",
        "    while K < INDICE:\n",
        "        K += 1\n",
        "        SOMA += K\n",
        "\n",
        "    return SOMA\n",
        "\n",
        "# O resultado sera impresso na tela.\n",
        "print(f\"O valor da variável SOMA ao final do processamento é {calcular_soma()}.\")\n",
        "\n"
      ],
      "metadata": {
        "colab": {
          "base_uri": "https://localhost:8080/"
        },
        "id": "D0kkP_DR01t_",
        "outputId": "8ebaaa3b-e609-4e08-fc35-242033c8dbe4"
      },
      "execution_count": 6,
      "outputs": [
        {
          "output_type": "stream",
          "name": "stdout",
          "text": [
            "O valor da variável SOMA ao final do processamento é 77.\n"
          ]
        }
      ]
    },
    {
      "cell_type": "code",
      "source": [
        "def proximo_elemento_a():\n",
        "    # a) 1, 3, 5, 7, ___ (sequência de números ímpares)\n",
        "    seq = [1, 3, 5, 7]\n",
        "    # O próximo número é o próximo ímpar: (proxima sequencia -1 posição =7  acrescenta + 2)\n",
        "    proximo = seq[-1] + 2\n",
        "    return proximo\n",
        "\n",
        "def proximo_elemento_b():\n",
        "    # b) 2, 4, 8, 16, 32, 64, ____ (cada número é o dobro do anterior)\n",
        "    seq = [2, 4, 8, 16, 32, 64]\n",
        "    # O próximo número é o dobro de 64 (proxima sequencia -1 posição)\n",
        "    proximo = seq[-1] * 2\n",
        "    return proximo\n",
        "\n",
        "def proximo_elemento_c():\n",
        "    # c) 0, 1, 4, 9, 16, 25, 36, ____ (sequência de quadrados de números inteiros)\n",
        "    seq = [0, 1, 4, 9, 16, 25, 36]\n",
        "    # O próximo número é o quadrado de 7, pois existe 6 numeros > 0.\n",
        "    proximo = (len(seq)) ** 2\n",
        "    return proximo\n",
        "\n",
        "def proximo_elemento_d():\n",
        "    # d) 4, 16, 36, 64, ____ (sequência de quadrados de números pares)\n",
        "    seq = [4, 16, 36, 64]\n",
        "    # O próximo número é o quadrado do próximo número par (10)= (sendo ultima posição par * 2 + 2)\n",
        "    proximo = (len(seq) * 2 +2 ) ** 2\n",
        "    # esse codigo so ira dar o resultado apenas para essa questao\n",
        "    return proximo\n",
        "\n",
        "    # para utilizar de forma pedir quantidade de elementos faria conforme abaixo:\n",
        "\n",
        "    # def quadrados_numeros_pares(qtd_elementos):\n",
        "    # Inicializa a lista para armazenar os quadrados\n",
        "    # seq = []\n",
        "    # Inicializa o primeiro número par\n",
        "    # n = 2\n",
        "        # Calcula o quadrado dos primeiros 'qtd_elementos' números pares\n",
        "    # for _ in range(qtd_elementos):\n",
        "    #   seq.append(n ** 2)  # Adiciona o quadrado do número par à lista\n",
        "    #    n += 2  # Incrementa para o próximo número par\n",
        "\n",
        "        #return seq\n",
        "\n",
        "# Solicita ao usuário a quantidade de elementos\n",
        "# qtd_elementos = int(input(\"Quantos elementos da sequência de quadrados de números pares deseja? \"))\n",
        "\n",
        "# Chama a função com o valor informado pelo usuário\n",
        "# resultado = quadrados_numeros_pares(qtd_elementos)\n",
        "\n",
        "# Exibe o resultado\n",
        "# print(resultado)\n",
        "\n",
        "\n",
        "\n",
        "def proximo_elemento_e():\n",
        "    # e) 1, 1, 2, 3, 5, 8, ____ (sequência de Fibonacci)\n",
        "    seq = [1, 1, 2, 3, 5, 8]\n",
        "    # O próximo número é a soma dos dois últimos numeros da sequencia.\n",
        "    proximo = seq[-1] + seq[-2]\n",
        "    return proximo\n",
        "\n",
        "def proximo_elemento_f():\n",
        "    # f) 2, 10, 12, 16, 17, 18, 19, ____ (lógica alternativa)\n",
        "    seq = [2, 10, 12, 16, 17, 18, 19]\n",
        "    # O próximo número após 19 seguindo a lógica identificada é 20  a meu ver seria (incrementa 1 novamente)\n",
        "    proximo = seq[-1] + 1\n",
        "    return proximo\n",
        "\n",
        "# Executa os cálculos e imprime os resultados\n",
        "print(\"a) Próximo número questão a:\", proximo_elemento_a())\n",
        "print(\"b) Próximo número questão b:\", proximo_elemento_b())\n",
        "print(\"c) Próximo número questão c:\", proximo_elemento_c())\n",
        "print(\"d) Próximo número questão d:\", proximo_elemento_d())\n",
        "print(\"e) Próximo número questão e:\", proximo_elemento_e())\n",
        "print(\"f) Próximo número questão f:\", proximo_elemento_f())\n",
        "\n"
      ],
      "metadata": {
        "colab": {
          "base_uri": "https://localhost:8080/"
        },
        "id": "u4CUHz2W1Id4",
        "outputId": "15e5a961-f2a9-411f-d1ca-144741d4fef2"
      },
      "execution_count": 38,
      "outputs": [
        {
          "output_type": "stream",
          "name": "stdout",
          "text": [
            "a) Próximo número questão a: 9\n",
            "b) Próximo número questão b: 128\n",
            "c) Próximo número questão c: 49\n",
            "d) Próximo número questão d: 100\n",
            "e) Próximo número questão e: 13\n",
            "f) Próximo número questão f: 20\n"
          ]
        }
      ]
    }
  ]
}